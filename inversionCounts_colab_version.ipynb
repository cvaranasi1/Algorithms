{
  "nbformat": 4,
  "nbformat_minor": 0,
  "metadata": {
    "colab": {
      "name": "Untitled0.ipynb",
      "provenance": [],
      "authorship_tag": "ABX9TyNeVsgQ25ecraVLPqpkE/Mh",
      "include_colab_link": true
    },
    "kernelspec": {
      "name": "python3",
      "display_name": "Python 3"
    }
  },
  "cells": [
    {
      "cell_type": "markdown",
      "metadata": {
        "id": "view-in-github",
        "colab_type": "text"
      },
      "source": [
        "<a href=\"https://colab.research.google.com/github/cvaranasi1/Algorithms/blob/master/inversionCounts_colab_version.ipynb\" target=\"_parent\"><img src=\"https://colab.research.google.com/assets/colab-badge.svg\" alt=\"Open In Colab\"/></a>"
      ]
    },
    {
      "cell_type": "code",
      "metadata": {
        "id": "ksEDXndGejVo",
        "colab_type": "code",
        "colab": {
          "base_uri": "https://localhost:8080/",
          "height": 122
        },
        "outputId": "8a035636-4aef-4884-9d49-b2f6e579de6d"
      },
      "source": [
        "from google.colab import drive\n",
        "drive.mount('/content/gdrive')"
      ],
      "execution_count": 1,
      "outputs": [
        {
          "output_type": "stream",
          "text": [
            "Go to this URL in a browser: https://accounts.google.com/o/oauth2/auth?client_id=947318989803-6bn6qk8qdgf4n4g3pfee6491hc0brc4i.apps.googleusercontent.com&redirect_uri=urn%3aietf%3awg%3aoauth%3a2.0%3aoob&response_type=code&scope=email%20https%3a%2f%2fwww.googleapis.com%2fauth%2fdocs.test%20https%3a%2f%2fwww.googleapis.com%2fauth%2fdrive%20https%3a%2f%2fwww.googleapis.com%2fauth%2fdrive.photos.readonly%20https%3a%2f%2fwww.googleapis.com%2fauth%2fpeopleapi.readonly\n",
            "\n",
            "Enter your authorization code:\n",
            "··········\n",
            "Mounted at /content/gdrive\n"
          ],
          "name": "stdout"
        }
      ]
    },
    {
      "cell_type": "code",
      "metadata": {
        "id": "dk0UBfi8f3Rk",
        "colab_type": "code",
        "colab": {
          "base_uri": "https://localhost:8080/",
          "height": 34
        },
        "outputId": "b91c71ae-c560-428a-d76d-6e213a91333d"
      },
      "source": [
        "\n",
        "import time\n",
        "L = []\n",
        "with open(\"/content/gdrive/My Drive/integerArray.txt\", 'r') as file_being_read:\n",
        "  for line in file_being_read:\n",
        "        line = line.rstrip(\"\\n\")\n",
        "        L.append(int(line))\n",
        "def sort_and_count(A,n):\n",
        "    if n == 1:\n",
        "        return 0, A\n",
        "    elif n==2 and A[0] > A[1]:\n",
        "        return 1, list(reversed(A))\n",
        "    elif n==2 and A[0] < A[1]:\n",
        "        return 0, A\n",
        "    else:\n",
        "        X,B = sort_and_count(A[0:n//2],len(A[0:n//2]))\n",
        "        Y,C = sort_and_count(A[n//2:],len(A[n//2:]))\n",
        "        D = []\n",
        "        i = 0\n",
        "        j = 0\n",
        "        Z = 0\n",
        "        while len(D) < len(B)+len(C):\n",
        "            if B[i]<C[j]:\n",
        "                D.append(B[i])\n",
        "                i += 1\n",
        "            elif B[i]>C[j]:\n",
        "                D.append(C[j])\n",
        "                j += 1\n",
        "                Z += len(B[i:])\n",
        "            if i==len(B):\n",
        "                D.extend(C[j:])\n",
        "                break\n",
        "            if j==len(C):\n",
        "                D.extend(B[i:])\n",
        "                break\n",
        "        return X+Y+Z,D\n",
        "st=time.time()  \n",
        "(ic,sa) = sort_and_count(L,len(L))  \n",
        "print(\"--- %s seconds for inversion_counter ---\" % (time.time() - st))       "
      ],
      "execution_count": 2,
      "outputs": [
        {
          "output_type": "stream",
          "text": [
            "--- 11.350728511810303 seconds for inversion_counter ---\n"
          ],
          "name": "stdout"
        }
      ]
    },
    {
      "cell_type": "code",
      "metadata": {
        "id": "yDEuiHoJgxhm",
        "colab_type": "code",
        "colab": {
          "base_uri": "https://localhost:8080/",
          "height": 34
        },
        "outputId": "ff4b33be-52ae-4060-9102-5762090ba5a1"
      },
      "source": [
        "ic\n"
      ],
      "execution_count": 3,
      "outputs": [
        {
          "output_type": "execute_result",
          "data": {
            "text/plain": [
              "2407905288"
            ]
          },
          "metadata": {
            "tags": []
          },
          "execution_count": 3
        }
      ]
    }
  ]
}