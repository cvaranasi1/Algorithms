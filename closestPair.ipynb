{
  "nbformat": 4,
  "nbformat_minor": 0,
  "metadata": {
    "colab": {
      "name": "closestPair.ipynb",
      "provenance": [],
      "collapsed_sections": [],
      "authorship_tag": "ABX9TyOtHOw2SzOSgn8uKSFMx4Gz",
      "include_colab_link": true
    },
    "kernelspec": {
      "name": "python3",
      "display_name": "Python 3"
    },
    "accelerator": "GPU"
  },
  "cells": [
    {
      "cell_type": "markdown",
      "metadata": {
        "id": "view-in-github",
        "colab_type": "text"
      },
      "source": [
        "<a href=\"https://colab.research.google.com/github/cvaranasi1/Algorithms/blob/master/closestPair.ipynb\" target=\"_parent\"><img src=\"https://colab.research.google.com/assets/colab-badge.svg\" alt=\"Open In Colab\"/></a>"
      ]
    },
    {
      "cell_type": "code",
      "metadata": {
        "id": "BaB4n7xB55IR",
        "colab_type": "code",
        "colab": {
          "base_uri": "https://localhost:8080/",
          "height": 122
        },
        "outputId": "ab935554-01af-4508-d537-9d1eeccb41f5"
      },
      "source": [
        "from google.colab import drive\n",
        "drive.mount('/content/gdrive')"
      ],
      "execution_count": 1,
      "outputs": [
        {
          "output_type": "stream",
          "text": [
            "Go to this URL in a browser: https://accounts.google.com/o/oauth2/auth?client_id=947318989803-6bn6qk8qdgf4n4g3pfee6491hc0brc4i.apps.googleusercontent.com&redirect_uri=urn%3aietf%3awg%3aoauth%3a2.0%3aoob&response_type=code&scope=email%20https%3a%2f%2fwww.googleapis.com%2fauth%2fdocs.test%20https%3a%2f%2fwww.googleapis.com%2fauth%2fdrive%20https%3a%2f%2fwww.googleapis.com%2fauth%2fdrive.photos.readonly%20https%3a%2f%2fwww.googleapis.com%2fauth%2fpeopleapi.readonly\n",
            "\n",
            "Enter your authorization code:\n",
            "··········\n",
            "Mounted at /content/gdrive\n"
          ],
          "name": "stdout"
        }
      ]
    },
    {
      "cell_type": "code",
      "metadata": {
        "id": "IvdyChsW6XaX",
        "colab_type": "code",
        "colab": {
          "base_uri": "https://localhost:8080/",
          "height": 102
        },
        "outputId": "6079d8a3-c7a4-4100-d1ed-88ac86ff2423"
      },
      "source": [
        "import numpy as np\n",
        "#assert np  # silence pyflakes\n",
        "numPts = int(1e5)\n",
        "from numpy.random import Generator, PCG64\n",
        "rg = Generator(PCG64(123456789))\n",
        "#from numpy.random import default_rng\n",
        "#rng = default_rng()\n",
        "v = np.arange(-2e5,2e5,1,dtype='int64')\n",
        "P = rg.choice(v,2*numPts,replace=False).reshape((2,numPts))\n",
        "\n",
        "def closestPair(Px,Py): # Remember Px and Py are two copies of the same point-set; one sorted by x-coordinate and the other by y-coordinate\n",
        "    if len(Px[0]) <=3:  # recursion will stop here at either 2 or 3 points\n",
        "        d = 1e20\n",
        "        for p in range (len(Px[0])-1):\n",
        "            for q in range(p+1,len(Px[0])):\n",
        "                dval = (Px[:,p][0] - Px[:,q][0])**2 + (Px[:,p][1] - Px[:,q][1])**2\n",
        "                if dval <= d:\n",
        "                    r = Px[:,p]\n",
        "                    s = Px[:,q]\n",
        "                    d = dval\n",
        "        return d,r,s\n",
        "    else:\n",
        "        midX    =   Px[0][len(Px[0])//2] # Get the midpoint of X-coordinates\n",
        "        Qx      =   Px[:,Px[0]<midX]     # All the points that are to the left of midX in Px\n",
        "        Rx      =   Px[:,Px[0]>=midX]    # All the points to the right of midX in Px\n",
        "        Qy      =   Py[:,Py[0]<midX]     # All the points--sorted by y-coordinates--that are to the left of midX in Py\n",
        "        Ry      =   Py[:,Py[0]>=midX]    # All the points--sorted by y-coordinates--that are to the right of midX in Py\n",
        "        dL,p1,q1   =   closestPair(Qx,Qy)   # Conquer the left-half\n",
        "        dR,p2,q2   =   closestPair(Rx,Ry)   # Conquer the right-half\n",
        "        if dL <= dR:\n",
        "            delta = dL\n",
        "            u1,v1 = p1,q1\n",
        "        else:\n",
        "            delta = dR\n",
        "            u1,v1 = p2,q2\n",
        "        # Now, compute splitPair\n",
        "        Sy      =   Py[:,abs(Py[0]-midX)<=delta] # This is the set of points that are within 'delta' distance either way from midX and they are sorted by their y-coordinate\n",
        "#        print(len(Sy))\n",
        "        dc = 1e20\n",
        "        for a in range (len(Sy[0])-1):\n",
        "            for b in range(a+1,min(a+7,len(Sy[0]))):\n",
        "                dval = (Sy[:,a][0] - Sy[:,b][0])**2 + (Sy[:,a][1] - Sy[:,b][1])**2\n",
        "                if dval <= dc:\n",
        "                    r1 = Sy[:,a]\n",
        "                    s1 = Sy[:,b]\n",
        "                    dc = dval\n",
        "        if dc < delta:\n",
        "            return dc, r1,s1\n",
        "        else:\n",
        "            return delta, u1, v1\n",
        "\n",
        "Px = P[:,np.argsort(P[0])]    # Points sorted by x-axis coordinates\n",
        "Py = P[:,np.argsort(P[1])]    # Points sorted by y-axis coordinates We will need later.\n",
        "import time\n",
        "st=time.time()\n",
        "D, E, F = closestPair(Px,Py)\n",
        "print(\"--- %s seconds for closestPair ---\" % (time.time() - st))\n",
        "print(\"\\nClosest Pair:\\t\", E, F)\n",
        "print(\"\\nClosest distance:\\t\", np.sqrt(D))"
      ],
      "execution_count": 3,
      "outputs": [
        {
          "output_type": "stream",
          "text": [
            "--- 13.146313905715942 seconds for closestPair ---\n",
            "\n",
            "Closest Pair:\t [ 45825 110783] [ 45821 110785]\n",
            "\n",
            "Closest distance:\t 4.47213595499958\n"
          ],
          "name": "stdout"
        }
      ]
    }
  ]
}